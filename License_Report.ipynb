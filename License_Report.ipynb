{
   "cells":[
      {
         "metadata":{
            "trusted":true
         },
         "cell_type":"code",
         "source":"from arcgis.gis import GIS\ngis = GIS(\"home\")\n\ngisadmin = gis.admin\n\n",
         "execution_count":null,
         "outputs":[
            
         ]
      },
      {
         "metadata":{
            
         },
         "cell_type":"markdown",
         "source":"### get the entitlements for this organization"
      },
      {
         "metadata":{
            "trusted":true
         },
         "cell_type":"code",
         "source":"license = gisadmin.license\nlicense.all()",
         "execution_count":null,
         "outputs":[
            
         ]
      },
      {
         "metadata":{
            
         },
         "cell_type":"markdown",
         "source":"### get a report of the total, assigned and remaining license for the organization"
      },
      {
         "metadata":{
            "trusted":true
         },
         "cell_type":"code",
         "source":"pro_license = license.get(\"ArcGIS Pro\")\npro_license.report",
         "execution_count":null,
         "outputs":[
            
         ]
      },
      {
         "metadata":{
            "trusted":true
         },
         "cell_type":"code",
         "source":"",
         "execution_count":null,
         "outputs":[
            
         ]
      },
      {
         "metadata":{
            "trusted":true
         },
         "cell_type":"code",
         "source":"",
         "execution_count":null,
         "outputs":[
            
         ]
      }
   ],
   "metadata":{
      "kernelspec":{
         "name":"python3",
         "display_name":"Python 3",
         "language":"python"
      },
      "language_info":{
         "name":"python",
         "version":"3.7.9",
         "mimetype":"text/x-python",
         "codemirror_mode":{
            "name":"ipython",
            "version":3
         },
         "pygments_lexer":"ipython3",
         "nbconvert_exporter":"python",
         "file_extension":".py"
      }
   },
   "nbformat":4,
   "nbformat_minor":2
}
